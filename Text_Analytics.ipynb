{
 "cells": [
  {
   "cell_type": "code",
   "execution_count": 2,
   "metadata": {},
   "outputs": [
    {
     "data": {
      "text/html": [
       "<div>\n",
       "<style scoped>\n",
       "    .dataframe tbody tr th:only-of-type {\n",
       "        vertical-align: middle;\n",
       "    }\n",
       "\n",
       "    .dataframe tbody tr th {\n",
       "        vertical-align: top;\n",
       "    }\n",
       "\n",
       "    .dataframe thead th {\n",
       "        text-align: right;\n",
       "    }\n",
       "</style>\n",
       "<table border=\"1\" class=\"dataframe\">\n",
       "  <thead>\n",
       "    <tr style=\"text-align: right;\">\n",
       "      <th></th>\n",
       "      <th>OCC_CODE</th>\n",
       "      <th>OCC_TITLE</th>\n",
       "      <th>year</th>\n",
       "      <th>H_MEAN</th>\n",
       "      <th>A_MEAN</th>\n",
       "      <th>MEAN_PRSE</th>\n",
       "      <th>H_PCT10</th>\n",
       "      <th>H_PCT25</th>\n",
       "      <th>H_MEDIAN</th>\n",
       "      <th>H_PCT75</th>\n",
       "      <th>...</th>\n",
       "      <th>A_PCT10</th>\n",
       "      <th>A_PCT25</th>\n",
       "      <th>A_MEDIAN</th>\n",
       "      <th>A_PCT75</th>\n",
       "      <th>A_PCT90</th>\n",
       "      <th>TOT_EMP</th>\n",
       "      <th>EMP_PRSE</th>\n",
       "      <th>OCC_SEC</th>\n",
       "      <th>SecMean</th>\n",
       "      <th>H_MEAN_SEC_ratio</th>\n",
       "    </tr>\n",
       "  </thead>\n",
       "  <tbody>\n",
       "    <tr>\n",
       "      <th>0</th>\n",
       "      <td>11-9039</td>\n",
       "      <td>Education Administrators, All Other</td>\n",
       "      <td>2010</td>\n",
       "      <td>37.259998</td>\n",
       "      <td>77500.0</td>\n",
       "      <td>1.2</td>\n",
       "      <td>17.920000</td>\n",
       "      <td>23.049999</td>\n",
       "      <td>32.060001</td>\n",
       "      <td>45.410000</td>\n",
       "      <td>...</td>\n",
       "      <td>37270.0</td>\n",
       "      <td>47940.0</td>\n",
       "      <td>66680.0</td>\n",
       "      <td>94450.0</td>\n",
       "      <td>128810.0</td>\n",
       "      <td>13450.0</td>\n",
       "      <td>2.8</td>\n",
       "      <td>11</td>\n",
       "      <td>53.616684</td>\n",
       "      <td>0.694933</td>\n",
       "    </tr>\n",
       "    <tr>\n",
       "      <th>1</th>\n",
       "      <td>11-3051</td>\n",
       "      <td>Industrial Production Managers</td>\n",
       "      <td>2010</td>\n",
       "      <td>58.090000</td>\n",
       "      <td>120830.0</td>\n",
       "      <td>1.7</td>\n",
       "      <td>40.619999</td>\n",
       "      <td>49.450001</td>\n",
       "      <td>57.990002</td>\n",
       "      <td>65.870003</td>\n",
       "      <td>...</td>\n",
       "      <td>84490.0</td>\n",
       "      <td>102860.0</td>\n",
       "      <td>120620.0</td>\n",
       "      <td>137000.0</td>\n",
       "      <td>152650.0</td>\n",
       "      <td>200.0</td>\n",
       "      <td>0.0</td>\n",
       "      <td>11</td>\n",
       "      <td>53.616684</td>\n",
       "      <td>1.083431</td>\n",
       "    </tr>\n",
       "    <tr>\n",
       "      <th>2</th>\n",
       "      <td>11-9161</td>\n",
       "      <td>Emergency Management Directors</td>\n",
       "      <td>2010</td>\n",
       "      <td>26.410000</td>\n",
       "      <td>54930.0</td>\n",
       "      <td>0.8</td>\n",
       "      <td>12.320000</td>\n",
       "      <td>18.070000</td>\n",
       "      <td>25.000000</td>\n",
       "      <td>33.419998</td>\n",
       "      <td>...</td>\n",
       "      <td>25630.0</td>\n",
       "      <td>37580.0</td>\n",
       "      <td>52010.0</td>\n",
       "      <td>69500.0</td>\n",
       "      <td>89850.0</td>\n",
       "      <td>6710.0</td>\n",
       "      <td>2.3</td>\n",
       "      <td>11</td>\n",
       "      <td>53.616684</td>\n",
       "      <td>0.492571</td>\n",
       "    </tr>\n",
       "    <tr>\n",
       "      <th>3</th>\n",
       "      <td>11-9039</td>\n",
       "      <td>Education Administrators, All Other</td>\n",
       "      <td>2010</td>\n",
       "      <td>41.290001</td>\n",
       "      <td>85880.0</td>\n",
       "      <td>1.1</td>\n",
       "      <td>24.209999</td>\n",
       "      <td>30.510000</td>\n",
       "      <td>39.340000</td>\n",
       "      <td>50.450001</td>\n",
       "      <td>...</td>\n",
       "      <td>50350.0</td>\n",
       "      <td>63460.0</td>\n",
       "      <td>81820.0</td>\n",
       "      <td>104940.0</td>\n",
       "      <td>128250.0</td>\n",
       "      <td>14650.0</td>\n",
       "      <td>1.9</td>\n",
       "      <td>11</td>\n",
       "      <td>53.616684</td>\n",
       "      <td>0.770096</td>\n",
       "    </tr>\n",
       "    <tr>\n",
       "      <th>4</th>\n",
       "      <td>11-9071</td>\n",
       "      <td>Gaming Managers</td>\n",
       "      <td>2010</td>\n",
       "      <td>37.080002</td>\n",
       "      <td>77120.0</td>\n",
       "      <td>1.4</td>\n",
       "      <td>20.000000</td>\n",
       "      <td>25.670000</td>\n",
       "      <td>33.259998</td>\n",
       "      <td>43.560001</td>\n",
       "      <td>...</td>\n",
       "      <td>41600.0</td>\n",
       "      <td>53400.0</td>\n",
       "      <td>69190.0</td>\n",
       "      <td>90610.0</td>\n",
       "      <td>121180.0</td>\n",
       "      <td>2170.0</td>\n",
       "      <td>3.6</td>\n",
       "      <td>11</td>\n",
       "      <td>53.616684</td>\n",
       "      <td>0.691576</td>\n",
       "    </tr>\n",
       "  </tbody>\n",
       "</table>\n",
       "<p>5 rows × 21 columns</p>\n",
       "</div>"
      ],
      "text/plain": [
       "  OCC_CODE                            OCC_TITLE  year     H_MEAN    A_MEAN  \\\n",
       "0  11-9039  Education Administrators, All Other  2010  37.259998   77500.0   \n",
       "1  11-3051       Industrial Production Managers  2010  58.090000  120830.0   \n",
       "2  11-9161       Emergency Management Directors  2010  26.410000   54930.0   \n",
       "3  11-9039  Education Administrators, All Other  2010  41.290001   85880.0   \n",
       "4  11-9071                      Gaming Managers  2010  37.080002   77120.0   \n",
       "\n",
       "   MEAN_PRSE    H_PCT10    H_PCT25   H_MEDIAN    H_PCT75  ...  A_PCT10  \\\n",
       "0        1.2  17.920000  23.049999  32.060001  45.410000  ...  37270.0   \n",
       "1        1.7  40.619999  49.450001  57.990002  65.870003  ...  84490.0   \n",
       "2        0.8  12.320000  18.070000  25.000000  33.419998  ...  25630.0   \n",
       "3        1.1  24.209999  30.510000  39.340000  50.450001  ...  50350.0   \n",
       "4        1.4  20.000000  25.670000  33.259998  43.560001  ...  41600.0   \n",
       "\n",
       "    A_PCT25  A_MEDIAN   A_PCT75   A_PCT90  TOT_EMP  EMP_PRSE  OCC_SEC  \\\n",
       "0   47940.0   66680.0   94450.0  128810.0  13450.0       2.8       11   \n",
       "1  102860.0  120620.0  137000.0  152650.0    200.0       0.0       11   \n",
       "2   37580.0   52010.0   69500.0   89850.0   6710.0       2.3       11   \n",
       "3   63460.0   81820.0  104940.0  128250.0  14650.0       1.9       11   \n",
       "4   53400.0   69190.0   90610.0  121180.0   2170.0       3.6       11   \n",
       "\n",
       "     SecMean  H_MEAN_SEC_ratio  \n",
       "0  53.616684          0.694933  \n",
       "1  53.616684          1.083431  \n",
       "2  53.616684          0.492571  \n",
       "3  53.616684          0.770096  \n",
       "4  53.616684          0.691576  \n",
       "\n",
       "[5 rows x 21 columns]"
      ]
     },
     "execution_count": 2,
     "metadata": {},
     "output_type": "execute_result"
    }
   ],
   "source": [
    "import pandas as pd\n",
    "import collections\n",
    "import seaborn as sns\n",
    "import matplotlib.pyplot as plt\n",
    "df = pd.read_excel(r'C:\\Users\\zishe\\Desktop\\TIAS\\thesis\\final data\\final_data.xlsx')\n",
    "df.head()"
   ]
  },
  {
   "cell_type": "code",
   "execution_count": 3,
   "metadata": {},
   "outputs": [
    {
     "data": {
      "text/plain": [
       "workers        10169\n",
       "other           8778\n",
       "all             8274\n",
       "operators       7039\n",
       "technicians     5036\n",
       "managers        4268\n",
       "except          4256\n",
       "clerks          3728\n",
       "machine         3660\n",
       "repairers       3214\n",
       "Name: OCC_TITLE, dtype: int64"
      ]
     },
     "execution_count": 3,
     "metadata": {},
     "output_type": "execute_result"
    }
   ],
   "source": [
    "def dealstr(s):\n",
    "    return s.lower().replace('and', '').replace(',', '').split()\n",
    "\n",
    "df['OCC_TITLE'].map(dealstr).explode().value_counts()[:10]"
   ]
  },
  {
   "cell_type": "code",
   "execution_count": 4,
   "metadata": {},
   "outputs": [],
   "source": [
    "df['title'] = df['OCC_TITLE'].str.lower().replace('and', '').replace(',', '')\n",
    "\n",
    "titles = list(df['OCC_TITLE'].map(dealstr).explode().value_counts()[:10].index)\n",
    "titles = [t for t in titles if t not in ['other', 'all', 'except']]\n",
    "df['title'] = df['title'].apply(\n",
    "    lambda x:[s for s in titles if s in x][0] \n",
    "    if any([s in x for s in titles]) \n",
    "    else 'other'\n",
    ")"
   ]
  },
  {
   "cell_type": "code",
   "execution_count": null,
   "metadata": {},
   "outputs": [],
   "source": [
    "temp = df.groupby(['year', 'title'])['TOT_EMP'].sum().unstack() / 1e7\n",
    "\n",
    "temp.drop('other', axis=1).plot(\n",
    "    kind='bar', figsize=(24, 10)\n",
    ")\n",
    "plt.ylabel('Total employments (Unit: 10 million)')\n",
    "plt.title('Total employments of different job categories in year 2010-2020')\n",
    "plt.savefig('output.png', dpi=500)"
   ]
  },
  {
   "cell_type": "code",
   "execution_count": null,
   "metadata": {},
   "outputs": [],
   "source": [
    "temp = df.groupby(['year', 'title'])['H_MEAN'].mean().unstack() \n",
    "\n",
    "temp.drop('other', axis=1).plot(\n",
    "    kind='bar', figsize=(24, 10)\n",
    ")\n",
    "plt.ylabel('Average Hourly Wage')\n",
    "plt.title('Average wage of different job categories in year 2010-2020')\n",
    "plt.savefig('output.png', dpi=500)"
   ]
  },
  {
   "cell_type": "code",
   "execution_count": null,
   "metadata": {},
   "outputs": [],
   "source": [
    "temp.describe()"
   ]
  },
  {
   "cell_type": "code",
   "execution_count": null,
   "metadata": {},
   "outputs": [],
   "source": [
    "temp.to_excel('sum.xlsx')"
   ]
  },
  {
   "cell_type": "code",
   "execution_count": null,
   "metadata": {
    "scrolled": true
   },
   "outputs": [],
   "source": [
    "from wordcloud import WordCloud\n",
    "\n",
    "f = ' '.join(df['OCC_TITLE'].map(dealstr).explode().str.strip().values)\n",
    "wordcloud = WordCloud( font_path='C:\\\\windows\\\\Fonts\\\\timesbd.ttf',\n",
    "                    background_color='white', \n",
    "                    collocations=False,\n",
    "                    scale=2).generate(f)\n",
    "plt.imshow(wordcloud, interpolation='bilinear')\n",
    "plt.axis('off')\n",
    "plt.figsize = (10,20)\n",
    "plt.savefig('pic.png', \n",
    "            dpi=1500)\n",
    "        "
   ]
  },
  {
   "cell_type": "code",
   "execution_count": null,
   "metadata": {},
   "outputs": [],
   "source": [
    "print(f)"
   ]
  },
  {
   "cell_type": "code",
   "execution_count": null,
   "metadata": {},
   "outputs": [],
   "source": [
    "a=f.split()"
   ]
  },
  {
   "cell_type": "code",
   "execution_count": null,
   "metadata": {},
   "outputs": [],
   "source": [
    "from collections import *\n",
    "ignore = ['other', 'all', 'except','of']\n",
    "counts_a = collections.Counter(a) \n",
    "for word in ignore:\n",
    "    if word in counts_a:\n",
    "        del counts_a[word]"
   ]
  },
  {
   "cell_type": "code",
   "execution_count": null,
   "metadata": {},
   "outputs": [],
   "source": [
    "counts = pd.DataFrame(counts_a.most_common(20),\n",
    "                             columns=['words', 'count'])\n",
    "print(counts)"
   ]
  },
  {
   "cell_type": "code",
   "execution_count": null,
   "metadata": {},
   "outputs": [],
   "source": []
  },
  {
   "cell_type": "code",
   "execution_count": null,
   "metadata": {},
   "outputs": [],
   "source": [
    "# fig, ax = plt.subplots(figsize=(8, 8))\n",
    "# ax.set_title(\"Most Frequent Words in Occupation Titles by Count\")\n",
    "fig = plt.figure(figsize=(8, 8))\n",
    "counts.sort_values(by='count').plot.barh(x='words',\n",
    "                      y='count',  color=\"purple\")\n",
    "\n",
    "plt.title(\"Most Frequent Words in Occupation Titles by Count\")"
   ]
  },
  {
   "cell_type": "code",
   "execution_count": null,
   "metadata": {},
   "outputs": [],
   "source": [
    "plt.show()"
   ]
  },
  {
   "cell_type": "code",
   "execution_count": null,
   "metadata": {},
   "outputs": [],
   "source": []
  },
  {
   "cell_type": "code",
   "execution_count": null,
   "metadata": {},
   "outputs": [],
   "source": []
  },
  {
   "cell_type": "code",
   "execution_count": null,
   "metadata": {},
   "outputs": [],
   "source": []
  },
  {
   "cell_type": "code",
   "execution_count": null,
   "metadata": {},
   "outputs": [],
   "source": []
  }
 ],
 "metadata": {
  "interpreter": {
   "hash": "0d2af4708e901420ca316528daed9d207adf237f59982b81f6b4928a0eab77f9"
  },
  "kernelspec": {
   "display_name": "Python 3",
   "language": "python",
   "name": "python3"
  },
  "language_info": {
   "codemirror_mode": {
    "name": "ipython",
    "version": 3
   },
   "file_extension": ".py",
   "mimetype": "text/x-python",
   "name": "python",
   "nbconvert_exporter": "python",
   "pygments_lexer": "ipython3",
   "version": "3.8.5"
  }
 },
 "nbformat": 4,
 "nbformat_minor": 2
}
